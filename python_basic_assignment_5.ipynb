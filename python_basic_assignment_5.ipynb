{
 "cells": [
  {
   "cell_type": "markdown",
   "id": "69bb8cd4",
   "metadata": {},
   "source": [
    "# Python Basic Assignment 5"
   ]
  },
  {
   "cell_type": "code",
   "execution_count": 1,
   "id": "1439ce67",
   "metadata": {},
   "outputs": [],
   "source": [
    "#                                  Question 1\n",
    "# What does an empty dictionary's code look like?"
   ]
  },
  {
   "cell_type": "code",
   "execution_count": 4,
   "id": "f188583d",
   "metadata": {},
   "outputs": [
    {
     "data": {
      "text/plain": [
       "dict"
      ]
     },
     "execution_count": 4,
     "metadata": {},
     "output_type": "execute_result"
    }
   ],
   "source": [
    "# Method 1\n",
    "empty_dic = {}\n",
    "type(empty_dic)\n"
   ]
  },
  {
   "cell_type": "code",
   "execution_count": 6,
   "id": "5d10f2ab",
   "metadata": {},
   "outputs": [
    {
     "data": {
      "text/plain": [
       "0"
      ]
     },
     "execution_count": 6,
     "metadata": {},
     "output_type": "execute_result"
    }
   ],
   "source": [
    "len(empty_dic)"
   ]
  },
  {
   "cell_type": "code",
   "execution_count": 8,
   "id": "a6da2fa8",
   "metadata": {},
   "outputs": [],
   "source": [
    "# Method 2\n",
    "empty = dict()"
   ]
  },
  {
   "cell_type": "code",
   "execution_count": 9,
   "id": "6f80a288",
   "metadata": {},
   "outputs": [
    {
     "data": {
      "text/plain": [
       "0"
      ]
     },
     "execution_count": 9,
     "metadata": {},
     "output_type": "execute_result"
    }
   ],
   "source": [
    "len(empty)"
   ]
  },
  {
   "cell_type": "code",
   "execution_count": 10,
   "id": "d2de06b2",
   "metadata": {},
   "outputs": [
    {
     "data": {
      "text/plain": [
       "dict"
      ]
     },
     "execution_count": 10,
     "metadata": {},
     "output_type": "execute_result"
    }
   ],
   "source": [
    "type(empty)"
   ]
  },
  {
   "cell_type": "code",
   "execution_count": 11,
   "id": "f33a172d",
   "metadata": {},
   "outputs": [],
   "source": [
    "#                                  Question 2\n",
    "# What is the value of a dictionary value with the key 'foo' and the value 42?"
   ]
  },
  {
   "cell_type": "code",
   "execution_count": 12,
   "id": "8dec05bf",
   "metadata": {},
   "outputs": [],
   "source": [
    "dictionary = {\"foo\":42}"
   ]
  },
  {
   "cell_type": "code",
   "execution_count": 14,
   "id": "e7a5a2e1",
   "metadata": {},
   "outputs": [
    {
     "data": {
      "text/plain": [
       "42"
      ]
     },
     "execution_count": 14,
     "metadata": {},
     "output_type": "execute_result"
    }
   ],
   "source": [
    "dictionary[\"foo\"]"
   ]
  },
  {
   "cell_type": "code",
   "execution_count": 15,
   "id": "6dd65999",
   "metadata": {},
   "outputs": [],
   "source": [
    "#                                  Question 3\n",
    "# What is the most significant distinction between a dictionary and a list?"
   ]
  },
  {
   "cell_type": "markdown",
   "id": "7b976cae",
   "metadata": {},
   "source": [
    "dictionary consists of unordered items while the list contains ordered items."
   ]
  },
  {
   "cell_type": "code",
   "execution_count": 16,
   "id": "e1cb32f1",
   "metadata": {},
   "outputs": [],
   "source": [
    "#                                  Question 4\n",
    "# What happens if you try to access spam['foo'] if spam is {'bar': 100}?"
   ]
  },
  {
   "cell_type": "code",
   "execution_count": 17,
   "id": "fc8277c8",
   "metadata": {},
   "outputs": [
    {
     "ename": "KeyError",
     "evalue": "'foo'",
     "output_type": "error",
     "traceback": [
      "\u001b[1;31m---------------------------------------------------------------------------\u001b[0m",
      "\u001b[1;31mKeyError\u001b[0m                                  Traceback (most recent call last)",
      "\u001b[1;32m<ipython-input-17-cea1cd791e68>\u001b[0m in \u001b[0;36m<module>\u001b[1;34m\u001b[0m\n\u001b[0;32m      1\u001b[0m \u001b[0mspam\u001b[0m \u001b[1;33m=\u001b[0m \u001b[1;33m{\u001b[0m\u001b[1;34m'bar'\u001b[0m\u001b[1;33m:\u001b[0m\u001b[1;36m100\u001b[0m\u001b[1;33m}\u001b[0m\u001b[1;33m\u001b[0m\u001b[1;33m\u001b[0m\u001b[0m\n\u001b[1;32m----> 2\u001b[1;33m \u001b[0mspam\u001b[0m\u001b[1;33m[\u001b[0m\u001b[1;34m'foo'\u001b[0m\u001b[1;33m]\u001b[0m\u001b[1;33m\u001b[0m\u001b[1;33m\u001b[0m\u001b[0m\n\u001b[0m",
      "\u001b[1;31mKeyError\u001b[0m: 'foo'"
     ]
    }
   ],
   "source": [
    "spam = {'bar':100}\n",
    "spam['foo']"
   ]
  },
  {
   "cell_type": "markdown",
   "id": "77b241db",
   "metadata": {},
   "source": [
    "so we are getting KeyError"
   ]
  },
  {
   "cell_type": "code",
   "execution_count": 18,
   "id": "88998196",
   "metadata": {},
   "outputs": [],
   "source": [
    "#                                  Question 5\n",
    "#  If a dictionary is stored in spam, what is the difference between the expressions 'cat' in spam and 'cat' in spam.keys()?"
   ]
  },
  {
   "cell_type": "code",
   "execution_count": 19,
   "id": "bc8456a6",
   "metadata": {},
   "outputs": [],
   "source": [
    "spam = {'cat':'manow'}"
   ]
  },
  {
   "cell_type": "code",
   "execution_count": 20,
   "id": "045a1404",
   "metadata": {},
   "outputs": [
    {
     "data": {
      "text/plain": [
       "True"
      ]
     },
     "execution_count": 20,
     "metadata": {},
     "output_type": "execute_result"
    }
   ],
   "source": [
    "'cat' in spam"
   ]
  },
  {
   "cell_type": "code",
   "execution_count": 21,
   "id": "ba1ee742",
   "metadata": {},
   "outputs": [
    {
     "data": {
      "text/plain": [
       "True"
      ]
     },
     "execution_count": 21,
     "metadata": {},
     "output_type": "execute_result"
    }
   ],
   "source": [
    "'cat' in spam.keys()"
   ]
  },
  {
   "cell_type": "markdown",
   "id": "93d07539",
   "metadata": {},
   "source": [
    "So there is no difference. Both statements are checking if that key exits in a dictionary or not "
   ]
  },
  {
   "cell_type": "code",
   "execution_count": 22,
   "id": "8029d136",
   "metadata": {},
   "outputs": [],
   "source": [
    "#                                  Question 6\n",
    "#  If a dictionary is stored in spam, what is the difference between the expressions 'cat' in spam and 'cat' in spam.values()?"
   ]
  },
  {
   "cell_type": "code",
   "execution_count": 23,
   "id": "54c972b4",
   "metadata": {},
   "outputs": [],
   "source": [
    "spam = {'cat':'manow_billi'}"
   ]
  },
  {
   "cell_type": "code",
   "execution_count": 25,
   "id": "98226335",
   "metadata": {},
   "outputs": [
    {
     "data": {
      "text/plain": [
       "True"
      ]
     },
     "execution_count": 25,
     "metadata": {},
     "output_type": "execute_result"
    }
   ],
   "source": [
    "'cat' in spam"
   ]
  },
  {
   "cell_type": "markdown",
   "id": "e12d0926",
   "metadata": {},
   "source": [
    "this one is checking if there is a 'cat' key in the dictionary"
   ]
  },
  {
   "cell_type": "code",
   "execution_count": 26,
   "id": "89461ba6",
   "metadata": {},
   "outputs": [
    {
     "data": {
      "text/plain": [
       "False"
      ]
     },
     "execution_count": 26,
     "metadata": {},
     "output_type": "execute_result"
    }
   ],
   "source": [
    "'cat' in spam.values()"
   ]
  },
  {
   "cell_type": "markdown",
   "id": "954c2f6e",
   "metadata": {},
   "source": [
    "THis one is checking if there is a value 'cat' for one of the keys in dictionary spam or not, and that is false here as \n",
    "only vlue here is 'manow_billi'"
   ]
  },
  {
   "cell_type": "code",
   "execution_count": 27,
   "id": "9c4b745b",
   "metadata": {},
   "outputs": [],
   "source": [
    "#                                  Question 7\n",
    "# What is a shortcut for the following code?\n",
    "# if 'color' not in spam:\n",
    "# spam['color'] = 'black'\n"
   ]
  },
  {
   "cell_type": "code",
   "execution_count": 33,
   "id": "820541eb",
   "metadata": {},
   "outputs": [],
   "source": [
    "spam = {'car':'corolla','model':2021,'engine':'v2'}\n",
    "if 'color' not in spam:\n",
    "    spam['color'] = 'black'"
   ]
  },
  {
   "cell_type": "code",
   "execution_count": 34,
   "id": "b089a460",
   "metadata": {},
   "outputs": [
    {
     "data": {
      "text/plain": [
       "{'car': 'corolla', 'model': 2021, 'engine': 'v2', 'color': 'black'}"
      ]
     },
     "execution_count": 34,
     "metadata": {},
     "output_type": "execute_result"
    }
   ],
   "source": [
    "spam"
   ]
  },
  {
   "cell_type": "code",
   "execution_count": 35,
   "id": "67d91978",
   "metadata": {},
   "outputs": [
    {
     "data": {
      "text/plain": [
       "'black'"
      ]
     },
     "execution_count": 35,
     "metadata": {},
     "output_type": "execute_result"
    }
   ],
   "source": [
    "spam1 = {'car':'corolla','model':2021,'engine':'v2'}\n",
    "spam1.setdefault('color','black')"
   ]
  },
  {
   "cell_type": "code",
   "execution_count": 36,
   "id": "13dbbe7d",
   "metadata": {},
   "outputs": [
    {
     "data": {
      "text/plain": [
       "{'car': 'corolla', 'model': 2021, 'engine': 'v2', 'color': 'black'}"
      ]
     },
     "execution_count": 36,
     "metadata": {},
     "output_type": "execute_result"
    }
   ],
   "source": [
    "spam1"
   ]
  },
  {
   "cell_type": "code",
   "execution_count": 37,
   "id": "210f1fb0",
   "metadata": {},
   "outputs": [],
   "source": [
    "#                                  Question 7\n",
    "# How do you \"pretty print\" dictionary values using which module and function?"
   ]
  },
  {
   "cell_type": "code",
   "execution_count": 49,
   "id": "b6b15ffc",
   "metadata": {},
   "outputs": [
    {
     "name": "stdout",
     "output_type": "stream",
     "text": [
      "{\n",
      "  \"car\": \"mercedez\",\n",
      "  \"model\": 2020,\n",
      "  \"color\": \"white\"\n",
      "}\n"
     ]
    }
   ],
   "source": [
    "import json\n",
    "car = {'car':'mercedez','model':2020,'color':'white'}\n",
    "print(json.dumps(car,indent=2))"
   ]
  }
 ],
 "metadata": {
  "kernelspec": {
   "display_name": "Python 3",
   "language": "python",
   "name": "python3"
  },
  "language_info": {
   "codemirror_mode": {
    "name": "ipython",
    "version": 3
   },
   "file_extension": ".py",
   "mimetype": "text/x-python",
   "name": "python",
   "nbconvert_exporter": "python",
   "pygments_lexer": "ipython3",
   "version": "3.8.8"
  }
 },
 "nbformat": 4,
 "nbformat_minor": 5
}
