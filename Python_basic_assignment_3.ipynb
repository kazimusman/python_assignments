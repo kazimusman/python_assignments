{
 "cells": [
  {
   "cell_type": "markdown",
   "id": "bd0fd045",
   "metadata": {},
   "source": [
    "# Python Basic Assignment 3"
   ]
  },
  {
   "cell_type": "code",
   "execution_count": 59,
   "id": "adb5a70f",
   "metadata": {},
   "outputs": [],
   "source": [
    "#                       Question 1\n",
    "# Why are functions advantageous to have in your programs?"
   ]
  },
  {
   "cell_type": "markdown",
   "id": "56e474c1",
   "metadata": {},
   "source": [
    "# functions are made to benefit other users. For example, print, append, extend, etc are build in functions and these\n",
    "# functions makes our lives easier. So functions make programs shorter, easier to understand and easier to update."
   ]
  },
  {
   "cell_type": "code",
   "execution_count": 61,
   "id": "31a676bc",
   "metadata": {},
   "outputs": [],
   "source": [
    "#                      Question 2\n",
    "# When does the code in a function run: when it's specified or when it's called?"
   ]
  },
  {
   "cell_type": "markdown",
   "id": "e0994dad",
   "metadata": {},
   "source": [
    "# when it's called "
   ]
  },
  {
   "cell_type": "code",
   "execution_count": 63,
   "id": "ede21144",
   "metadata": {},
   "outputs": [],
   "source": [
    "#                      Question 3\n",
    "# What statement creates a function?"
   ]
  },
  {
   "cell_type": "code",
   "execution_count": 64,
   "id": "0a1dcdee",
   "metadata": {},
   "outputs": [],
   "source": [
    "def fun(x,y):\n",
    "    pass"
   ]
  },
  {
   "cell_type": "code",
   "execution_count": 65,
   "id": "6548901d",
   "metadata": {},
   "outputs": [],
   "source": [
    "#                      Question 4\n",
    "# What is the difference between a function and a function call?"
   ]
  },
  {
   "cell_type": "markdown",
   "id": "8b12edde",
   "metadata": {},
   "source": [
    "# when we call a function we are actually passing arguments in to the function. A function then takes those arguments \n",
    "# to do operations on them according to the function body written and then return back to function call for execution."
   ]
  },
  {
   "cell_type": "code",
   "execution_count": 67,
   "id": "d69ee04b",
   "metadata": {},
   "outputs": [],
   "source": [
    "#                      Question 5\n",
    "# How many global scopes are there in a Python program? How many local scopes?"
   ]
  },
  {
   "cell_type": "markdown",
   "id": "0c2406fe",
   "metadata": {},
   "source": [
    "# there is only one global scope, and a local scope is created whenever a function is created."
   ]
  },
  {
   "cell_type": "code",
   "execution_count": 69,
   "id": "9bc77ecc",
   "metadata": {},
   "outputs": [],
   "source": [
    "#                      Question 6\n",
    "# What happens to variables in a local scope when the function call returns?"
   ]
  },
  {
   "cell_type": "markdown",
   "id": "61804aff",
   "metadata": {},
   "source": [
    "# All variables inside the functions are destroyed after function call return."
   ]
  },
  {
   "cell_type": "code",
   "execution_count": 71,
   "id": "7beca089",
   "metadata": {},
   "outputs": [],
   "source": [
    "#                      Question 7\n",
    "# What is the concept of a return value? Is it possible to have a return value in an expression?"
   ]
  },
  {
   "cell_type": "markdown",
   "id": "d1e7520a",
   "metadata": {},
   "source": [
    "# A return value is a value which function returns after doing some operations define by the programmer. Morevover, \n",
    "# a return value can be use as a part of an expression."
   ]
  },
  {
   "cell_type": "code",
   "execution_count": 73,
   "id": "4d6d16b5",
   "metadata": {},
   "outputs": [],
   "source": [
    "#                      Question 8\n",
    "# If a function does not have a return statement, what is the return value of a call to that function?"
   ]
  },
  {
   "cell_type": "markdown",
   "id": "dbc21193",
   "metadata": {},
   "source": [
    "# NONE"
   ]
  },
  {
   "cell_type": "code",
   "execution_count": 75,
   "id": "06938bd1",
   "metadata": {},
   "outputs": [],
   "source": [
    "#                      Question 9\n",
    "# How do you make a function variable refer to the global variable?"
   ]
  },
  {
   "cell_type": "code",
   "execution_count": 76,
   "id": "0915ad4f",
   "metadata": {},
   "outputs": [
    {
     "data": {
      "text/plain": [
       "11"
      ]
     },
     "execution_count": 76,
     "metadata": {},
     "output_type": "execute_result"
    }
   ],
   "source": [
    "global x,y\n",
    "def addition(x,y):\n",
    "    c = x+y\n",
    "    return c\n",
    "addition(5,6)"
   ]
  },
  {
   "cell_type": "code",
   "execution_count": 77,
   "id": "8098cc90",
   "metadata": {},
   "outputs": [],
   "source": [
    "#                      Question 10\n",
    "# What is the data type of None?"
   ]
  },
  {
   "cell_type": "code",
   "execution_count": 79,
   "id": "c8c0cf6d",
   "metadata": {},
   "outputs": [
    {
     "data": {
      "text/plain": [
       "NoneType"
      ]
     },
     "execution_count": 79,
     "metadata": {},
     "output_type": "execute_result"
    }
   ],
   "source": [
    "a = None\n",
    "type(a)"
   ]
  },
  {
   "cell_type": "code",
   "execution_count": 80,
   "id": "64377e71",
   "metadata": {},
   "outputs": [],
   "source": [
    "#                      Question 11\n",
    "#  What does the sentence import areallyourpetsnamederic do?"
   ]
  },
  {
   "cell_type": "code",
   "execution_count": 81,
   "id": "ec91251d",
   "metadata": {},
   "outputs": [
    {
     "ename": "ModuleNotFoundError",
     "evalue": "No module named 'areallyourpetsnamederic'",
     "output_type": "error",
     "traceback": [
      "\u001b[0;31m---------------------------------------------------------------------------\u001b[0m",
      "\u001b[0;31mModuleNotFoundError\u001b[0m                       Traceback (most recent call last)",
      "\u001b[0;32m/var/folders/y4/qdwtwnqx71l51dtpzxylx43h0000gn/T/ipykernel_1861/51184242.py\u001b[0m in \u001b[0;36m<module>\u001b[0;34m\u001b[0m\n\u001b[0;32m----> 1\u001b[0;31m \u001b[0;32mimport\u001b[0m \u001b[0mareallyourpetsnamederic\u001b[0m\u001b[0;34m\u001b[0m\u001b[0;34m\u001b[0m\u001b[0m\n\u001b[0m",
      "\u001b[0;31mModuleNotFoundError\u001b[0m: No module named 'areallyourpetsnamederic'"
     ]
    }
   ],
   "source": [
    "import areallyourpetsnamederic"
   ]
  },
  {
   "cell_type": "markdown",
   "id": "519e4272",
   "metadata": {},
   "source": [
    "no such module with this name in python"
   ]
  },
  {
   "cell_type": "code",
   "execution_count": 82,
   "id": "1677d547",
   "metadata": {},
   "outputs": [],
   "source": [
    "#                      Question 12\n",
    "# If you had a bacon() feature in a spam module, what would you call it after importing spam?"
   ]
  },
  {
   "cell_type": "markdown",
   "id": "ca45be11",
   "metadata": {},
   "source": [
    "spam.bacon()"
   ]
  },
  {
   "cell_type": "code",
   "execution_count": 83,
   "id": "f7dd3ab4",
   "metadata": {},
   "outputs": [],
   "source": [
    "#                      Question 13\n",
    "# What can you do to save a programme from crashing if it encounters an error?"
   ]
  },
  {
   "cell_type": "code",
   "execution_count": 89,
   "id": "9b758620",
   "metadata": {},
   "outputs": [
    {
     "name": "stdout",
     "output_type": "stream",
     "text": [
      "Please enter a number: 0\n",
      "Error: 0 is an invalid number\n",
      "Cleanup can go here\n"
     ]
    }
   ],
   "source": [
    "try:\n",
    "    x = int(input(\"Please enter a number: \"))\n",
    "    y = 100 / x\n",
    "except ValueError:\n",
    "    print(\"Error: there was an error\")\n",
    "except ZeroDivisionError:\n",
    "    print(\"Error: 0 is an invalid number\")\n",
    "except Exception:\n",
    "    print(\"Error: another error occurred\")\n",
    "finally:\n",
    "    print(\"Cleanup can go here\")"
   ]
  },
  {
   "cell_type": "markdown",
   "id": "ec36bc9d",
   "metadata": {},
   "source": [
    "Place the line of code that might cause an error in a try clause."
   ]
  },
  {
   "cell_type": "code",
   "execution_count": 91,
   "id": "5a0053f0",
   "metadata": {},
   "outputs": [],
   "source": [
    "#                      Question 14\n",
    "# What is the purpose of the try clause? What is the purpose of the except clause?"
   ]
  },
  {
   "cell_type": "markdown",
   "id": "e9915331",
   "metadata": {},
   "source": [
    "The code that could potentially cause an error goes in the try clause and the code that executes if an error happens goes in the except clause."
   ]
  },
  {
   "cell_type": "code",
   "execution_count": null,
   "id": "3adff585",
   "metadata": {},
   "outputs": [],
   "source": []
  }
 ],
 "metadata": {
  "kernelspec": {
   "display_name": "Python 3 (ipykernel)",
   "language": "python",
   "name": "python3"
  },
  "language_info": {
   "codemirror_mode": {
    "name": "ipython",
    "version": 3
   },
   "file_extension": ".py",
   "mimetype": "text/x-python",
   "name": "python",
   "nbconvert_exporter": "python",
   "pygments_lexer": "ipython3",
   "version": "3.9.7"
  }
 },
 "nbformat": 4,
 "nbformat_minor": 5
}
