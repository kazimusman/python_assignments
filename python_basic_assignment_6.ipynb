{
 "cells": [
  {
   "cell_type": "markdown",
   "id": "b318841a",
   "metadata": {},
   "source": [
    "#  Python Basic Assignment 6\n"
   ]
  },
  {
   "cell_type": "markdown",
   "id": "b3f08e6b",
   "metadata": {},
   "source": [
    "                    Question 1\n",
    "  What are escape characters, and how do you use them?"
   ]
  },
  {
   "cell_type": "code",
   "execution_count": 9,
   "id": "52f75778",
   "metadata": {},
   "outputs": [],
   "source": [
    "#An escape character is a backlash (\\) followed by the character you want to insert. following are some of the \n",
    "# examples of escape characters\n",
    "#       \\'    single Quote\n",
    "#       \\\\    backlash\n",
    "#       \\n    New line\n",
    "#       \\r    carriage return\n",
    "#       \\t    Tab\n",
    "#       \\b    Backspace\n",
    "#       \\ooo  Octal value\n",
    "#       \\xhh  Hex vale\n",
    "\n",
    "\n"
   ]
  },
  {
   "cell_type": "code",
   "execution_count": 10,
   "id": "61361eac",
   "metadata": {
    "scrolled": true
   },
   "outputs": [
    {
     "ename": "SyntaxError",
     "evalue": "invalid syntax (3415449814.py, line 1)",
     "output_type": "error",
     "traceback": [
      "\u001b[0;36m  File \u001b[0;32m\"/var/folders/y4/qdwtwnqx71l51dtpzxylx43h0000gn/T/ipykernel_1060/3415449814.py\"\u001b[0;36m, line \u001b[0;32m1\u001b[0m\n\u001b[0;31m    text = 'my name is kazim and I'm a ineuron student '\u001b[0m\n\u001b[0m                                   ^\u001b[0m\n\u001b[0;31mSyntaxError\u001b[0m\u001b[0;31m:\u001b[0m invalid syntax\n"
     ]
    }
   ],
   "source": [
    "text = 'my name is kazim and I'm a ineuron student '"
   ]
  },
  {
   "cell_type": "markdown",
   "id": "8dc127ca",
   "metadata": {},
   "source": [
    "See it is giving us invalid syntex error. Now to fix it we will use single quote escape character "
   ]
  },
  {
   "cell_type": "code",
   "execution_count": 11,
   "id": "1f6699b4",
   "metadata": {},
   "outputs": [],
   "source": [
    "text = 'My name is kazim and I\\'m a ineuron student'"
   ]
  },
  {
   "cell_type": "code",
   "execution_count": 12,
   "id": "070e278d",
   "metadata": {},
   "outputs": [
    {
     "data": {
      "text/plain": [
       "\"My name is kazim and I'm a ineuron student\""
      ]
     },
     "execution_count": 12,
     "metadata": {},
     "output_type": "execute_result"
    }
   ],
   "source": [
    "text"
   ]
  },
  {
   "cell_type": "markdown",
   "id": "0571b2e4",
   "metadata": {},
   "source": [
    "                   Question 2\n",
    "What do the escape characters n and t stand for?"
   ]
  },
  {
   "cell_type": "code",
   "execution_count": 20,
   "id": "a1021096",
   "metadata": {},
   "outputs": [
    {
     "name": "stdout",
     "output_type": "stream",
     "text": [
      "Hello\n",
      "world\n"
     ]
    }
   ],
   "source": [
    "# \\n stands for new line and \\t stands for Tab\n",
    "new_line = \"Hello\\nworld\"\n",
    "print(new_line)"
   ]
  },
  {
   "cell_type": "code",
   "execution_count": 23,
   "id": "f548a873",
   "metadata": {},
   "outputs": [
    {
     "name": "stdout",
     "output_type": "stream",
     "text": [
      "Hello\tworld\n"
     ]
    }
   ],
   "source": [
    "tab = \"Hello\\tworld\"\n",
    "print(tab)"
   ]
  },
  {
   "cell_type": "markdown",
   "id": "3acb74b0",
   "metadata": {},
   "source": [
    "                   Question 3\n",
    "What is the way to include backslash characters in a string?"
   ]
  },
  {
   "cell_type": "code",
   "execution_count": 28,
   "id": "1611e7b3",
   "metadata": {},
   "outputs": [
    {
     "name": "stdout",
     "output_type": "stream",
     "text": [
      "\\\n"
     ]
    }
   ],
   "source": [
    "backlash = '\\\\'\n",
    "print(backlash)"
   ]
  },
  {
   "cell_type": "markdown",
   "id": "fac5d7f1",
   "metadata": {},
   "source": [
    "                    Question 4\n",
    "The string \"Howl's Moving Castle\" is a correct value. Why isn't the single quote character in the word Howl's not escaped a problem?\n"
   ]
  },
  {
   "cell_type": "code",
   "execution_count": 29,
   "id": "3b4ff929",
   "metadata": {},
   "outputs": [],
   "source": [
    "# Because if we single quote then it will close the quote after l so to overcome that problem\n",
    "# either we have to enclose the entire sentence inside the double quotes or if we want to enclose the sentence \n",
    "# inside single quotes then we have to use \\' after l. "
   ]
  },
  {
   "cell_type": "markdown",
   "id": "d28cd160",
   "metadata": {},
   "source": [
    "                    Question 5\n",
    "How do you write a string of newlines if you don't want to use the n character?"
   ]
  },
  {
   "cell_type": "code",
   "execution_count": 64,
   "id": "e675e289",
   "metadata": {},
   "outputs": [
    {
     "name": "stdout",
     "output_type": "stream",
     "text": [
      "Hello \n",
      "World"
     ]
    }
   ],
   "source": [
    "new_line= \"Hello World\"\n",
    "for i in new_line:\n",
    "    if i<=\" \":\n",
    "        print(i)\n",
    "    else:\n",
    "        print(i,end=\"\")\n",
    "        "
   ]
  },
  {
   "cell_type": "markdown",
   "id": "1fdb3c15",
   "metadata": {},
   "source": [
    "                    Question 6\n",
    "What are the values of the given expressions?\n",
    "'Hello, world!'[1]\n",
    "'Hello, world!'[0:5]\n",
    "'Hello, world!'[:5]\n",
    "'Hello, world!'[3:]\n"
   ]
  },
  {
   "cell_type": "code",
   "execution_count": 75,
   "id": "23724359",
   "metadata": {},
   "outputs": [
    {
     "data": {
      "text/plain": [
       "'e'"
      ]
     },
     "execution_count": 75,
     "metadata": {},
     "output_type": "execute_result"
    }
   ],
   "source": [
    "question6 = \"Hello world\"\n",
    "question6[1]"
   ]
  },
  {
   "cell_type": "code",
   "execution_count": 76,
   "id": "59839e0d",
   "metadata": {},
   "outputs": [
    {
     "data": {
      "text/plain": [
       "'e'"
      ]
     },
     "execution_count": 76,
     "metadata": {},
     "output_type": "execute_result"
    }
   ],
   "source": [
    "'Hello, world!'[1]"
   ]
  },
  {
   "cell_type": "code",
   "execution_count": 77,
   "id": "077c2fc0",
   "metadata": {},
   "outputs": [
    {
     "data": {
      "text/plain": [
       "'Hello'"
      ]
     },
     "execution_count": 77,
     "metadata": {},
     "output_type": "execute_result"
    }
   ],
   "source": [
    "question6[0:5]"
   ]
  },
  {
   "cell_type": "code",
   "execution_count": 78,
   "id": "0dbfd068",
   "metadata": {},
   "outputs": [
    {
     "data": {
      "text/plain": [
       "'Hello'"
      ]
     },
     "execution_count": 78,
     "metadata": {},
     "output_type": "execute_result"
    }
   ],
   "source": [
    "'Hello, world!'[0:5]"
   ]
  },
  {
   "cell_type": "code",
   "execution_count": 79,
   "id": "873ef839",
   "metadata": {},
   "outputs": [
    {
     "data": {
      "text/plain": [
       "'Hello'"
      ]
     },
     "execution_count": 79,
     "metadata": {},
     "output_type": "execute_result"
    }
   ],
   "source": [
    "question6[:5]"
   ]
  },
  {
   "cell_type": "code",
   "execution_count": 80,
   "id": "079df938",
   "metadata": {},
   "outputs": [
    {
     "data": {
      "text/plain": [
       "'Hello'"
      ]
     },
     "execution_count": 80,
     "metadata": {},
     "output_type": "execute_result"
    }
   ],
   "source": [
    "'Hello, world!'[:5]"
   ]
  },
  {
   "cell_type": "code",
   "execution_count": 81,
   "id": "5bdcce0d",
   "metadata": {},
   "outputs": [
    {
     "data": {
      "text/plain": [
       "'lo, world!'"
      ]
     },
     "execution_count": 81,
     "metadata": {},
     "output_type": "execute_result"
    }
   ],
   "source": [
    "'Hello, world!'[3:]"
   ]
  },
  {
   "cell_type": "code",
   "execution_count": 71,
   "id": "cf5dab78",
   "metadata": {},
   "outputs": [
    {
     "data": {
      "text/plain": [
       "'lo world'"
      ]
     },
     "execution_count": 71,
     "metadata": {},
     "output_type": "execute_result"
    }
   ],
   "source": [
    "question6[3:]"
   ]
  },
  {
   "cell_type": "markdown",
   "id": "368f6452",
   "metadata": {},
   "source": [
    "                    Question 7\n",
    "What are the values of the following expressions?\n",
    "'Hello'.upper()\n",
    "'Hello'.upper().isupper()\n",
    "'Hello'.upper().lower()\n"
   ]
  },
  {
   "cell_type": "code",
   "execution_count": 82,
   "id": "96221e64",
   "metadata": {},
   "outputs": [
    {
     "data": {
      "text/plain": [
       "'HELLO'"
      ]
     },
     "execution_count": 82,
     "metadata": {},
     "output_type": "execute_result"
    }
   ],
   "source": [
    "# will change all characters into upper case\n",
    "'Hello'.upper()"
   ]
  },
  {
   "cell_type": "code",
   "execution_count": 89,
   "id": "a209ed83",
   "metadata": {},
   "outputs": [
    {
     "data": {
      "text/plain": [
       "True"
      ]
     },
     "execution_count": 89,
     "metadata": {},
     "output_type": "execute_result"
    }
   ],
   "source": [
    "# will change every character into upper case and then check if the whole string is in upper case.\n",
    "ques7 = 'Hello'\n",
    "ques7.upper().isupper()"
   ]
  },
  {
   "cell_type": "code",
   "execution_count": 90,
   "id": "6d97b0e2",
   "metadata": {},
   "outputs": [
    {
     "data": {
      "text/plain": [
       "'hello'"
      ]
     },
     "execution_count": 90,
     "metadata": {},
     "output_type": "execute_result"
    }
   ],
   "source": [
    "# first change the whole string into upper case and then will change the whole string into lower case \n",
    "'Hello'.upper().lower()"
   ]
  },
  {
   "cell_type": "markdown",
   "id": "eb213182",
   "metadata": {},
   "source": [
    "                    Question 8\n",
    "What are the values of the following expressions?\n",
    "'Remember, remember, the fifth of July.'.split()\n",
    "'-'.join('There can only one.'.split())\n"
   ]
  },
  {
   "cell_type": "code",
   "execution_count": 91,
   "id": "ecf51985",
   "metadata": {},
   "outputs": [
    {
     "data": {
      "text/plain": [
       "['Remember,', 'remember,', 'the', 'fifth', 'of', 'July.']"
      ]
     },
     "execution_count": 91,
     "metadata": {},
     "output_type": "execute_result"
    }
   ],
   "source": [
    "'Remember, remember, the fifth of July.'.split()\n"
   ]
  },
  {
   "cell_type": "code",
   "execution_count": 92,
   "id": "909519c1",
   "metadata": {},
   "outputs": [
    {
     "data": {
      "text/plain": [
       "'There-can-only-one.'"
      ]
     },
     "execution_count": 92,
     "metadata": {},
     "output_type": "execute_result"
    }
   ],
   "source": [
    "'-'.join('There can only one.'.split())"
   ]
  },
  {
   "cell_type": "markdown",
   "id": "a3092a09",
   "metadata": {},
   "source": [
    "                    Question 9\n",
    "What are the methods for right-justifying, left-justifying, and centering a string?"
   ]
  },
  {
   "cell_type": "code",
   "execution_count": 99,
   "id": "9c89a34a",
   "metadata": {},
   "outputs": [
    {
     "name": "stdout",
     "output_type": "stream",
     "text": [
      "************i am a student of ineuron*************\n"
     ]
    }
   ],
   "source": [
    "question_9 = \"i am a student of ineuron\"\n",
    "print(question_9.center(50,\"*\"))"
   ]
  },
  {
   "cell_type": "code",
   "execution_count": 100,
   "id": "cf6079fd",
   "metadata": {},
   "outputs": [
    {
     "name": "stdout",
     "output_type": "stream",
     "text": [
      "*************************i am a student of ineuron\n"
     ]
    }
   ],
   "source": [
    "print(question_9.rjust(50,'*'))"
   ]
  },
  {
   "cell_type": "code",
   "execution_count": 101,
   "id": "1b3fd8e8",
   "metadata": {},
   "outputs": [
    {
     "name": "stdout",
     "output_type": "stream",
     "text": [
      "i am a student of ineuron*************************\n"
     ]
    }
   ],
   "source": [
    "print(question_9.ljust(50,'*'))"
   ]
  },
  {
   "cell_type": "markdown",
   "id": "564b19b3",
   "metadata": {},
   "source": [
    "                    Question 10\n",
    "What is the best way to remove whitespace characters from the start or end?"
   ]
  },
  {
   "cell_type": "code",
   "execution_count": 103,
   "id": "245d1b2e",
   "metadata": {},
   "outputs": [
    {
     "name": "stdout",
     "output_type": "stream",
     "text": [
      " I am a student of ineuron\n"
     ]
    }
   ],
   "source": [
    "# we can use .strip() function\n",
    "question_10 = '***** I am a student of ineuron*******'\n",
    "after_strip = question_10.strip('*')\n",
    "print(after_strip)"
   ]
  }
 ],
 "metadata": {
  "kernelspec": {
   "display_name": "Python 3 (ipykernel)",
   "language": "python",
   "name": "python3"
  },
  "language_info": {
   "codemirror_mode": {
    "name": "ipython",
    "version": 3
   },
   "file_extension": ".py",
   "mimetype": "text/x-python",
   "name": "python",
   "nbconvert_exporter": "python",
   "pygments_lexer": "ipython3",
   "version": "3.9.7"
  }
 },
 "nbformat": 4,
 "nbformat_minor": 5
}
