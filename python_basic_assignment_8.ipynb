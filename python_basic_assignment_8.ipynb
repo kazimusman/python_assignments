{
 "cells": [
  {
   "cell_type": "markdown",
   "id": "53ff7422",
   "metadata": {},
   "source": [
    "#                               Python Basic Assignment 8"
   ]
  },
  {
   "cell_type": "markdown",
   "id": "06c3b4dc",
   "metadata": {},
   "source": [
    "#                        Question#1\n",
    "# Is the Python Standard Library included with PyInputPlus?"
   ]
  },
  {
   "cell_type": "markdown",
   "id": "eb232b3f",
   "metadata": {},
   "source": [
    "No. pyinplutplus is not builtin module"
   ]
  },
  {
   "cell_type": "markdown",
   "id": "806be349",
   "metadata": {},
   "source": [
    "#                       Question#2\n",
    "# Why is PyInputPlus commonly imported with import pyinputplus as pypi?"
   ]
  },
  {
   "cell_type": "markdown",
   "id": "73d23ab1",
   "metadata": {},
   "source": [
    "pypi is used to give an alias to pyinputplus for fututre references. You can use any other alias as well"
   ]
  },
  {
   "cell_type": "markdown",
   "id": "150f4791",
   "metadata": {},
   "source": [
    "#                       Question#3\n",
    "# How do you distinguish between inputInt() and inputFloat()?"
   ]
  },
  {
   "cell_type": "markdown",
   "id": "1a9d55cf",
   "metadata": {},
   "source": [
    "inputint() is used to take intergers \n",
    "\n",
    "inutfloat is used to take floating values\n",
    "\n",
    " "
   ]
  },
  {
   "cell_type": "code",
   "execution_count": 1,
   "id": "e96f7802",
   "metadata": {},
   "outputs": [
    {
     "name": "stdout",
     "output_type": "stream",
     "text": [
      "enter an integer :kazim\n",
      "'kazim' is not an integer.\n",
      "enter an integer :2.2\n",
      "'2.2' is not an integer.\n",
      "enter an integer :1\n",
      "1\n"
     ]
    }
   ],
   "source": [
    "# Example\n",
    "import pyinputplus as pypi \n",
    "inp = pypi.inputInt('enter an integer :', default=0,limit = 3)\n",
    "print(inp)"
   ]
  },
  {
   "cell_type": "code",
   "execution_count": 2,
   "id": "9b2919b4",
   "metadata": {},
   "outputs": [
    {
     "name": "stdout",
     "output_type": "stream",
     "text": [
      "enter a floating number:kazim\n",
      "'kazim' is not a float.\n",
      "enter a floating number:2\n",
      "2.0\n"
     ]
    }
   ],
   "source": [
    "import pyinputplus as pypi\n",
    "inp1 = pypi.inputFloat('enter a floating number:', default = 0, limit = 3)\n",
    "print(inp1)"
   ]
  },
  {
   "cell_type": "markdown",
   "id": "f9fb72d6",
   "metadata": {},
   "source": [
    "#                       Question#4\n",
    "# Using PyInputPlus, how do you ensure that the user enters a whole number between 0 and 99?"
   ]
  },
  {
   "cell_type": "markdown",
   "id": "51926c21",
   "metadata": {},
   "source": [
    " The min and max parameters can be used to set lower and upper bounds for the input\n",
    "    \n",
    " Also greaterThan, lessThan parameters are used to set the external bounds"
   ]
  },
  {
   "cell_type": "code",
   "execution_count": 4,
   "id": "acca636c",
   "metadata": {},
   "outputs": [
    {
     "name": "stdout",
     "output_type": "stream",
     "text": [
      "enter an integer :102\n",
      "Number must be at maximum 100.\n",
      "enter an integer :-1\n",
      "Number must be at minimum 0.\n",
      "enter an integer :10\n",
      "10\n"
     ]
    }
   ],
   "source": [
    "# Example\n",
    "import pyinputplus as pypi\n",
    "inp2 = pypi.inputInt(\"enter an integer :\", min=0,max=100)\n",
    "print(inp2)"
   ]
  },
  {
   "cell_type": "markdown",
   "id": "7fab7d71",
   "metadata": {},
   "source": [
    "#                       Question#5\n",
    "# What is transferred to the keyword arguments allowRegexes and blockRegexes?\n",
    "\n",
    "blockRegexes blocks certain inputs that we want to invalidate"
   ]
  },
  {
   "cell_type": "code",
   "execution_count": 3,
   "id": "60c45f41",
   "metadata": {},
   "outputs": [
    {
     "name": "stdout",
     "output_type": "stream",
     "text": [
      "enter a string :his nick is kazim\n",
      "This response is invalid.\n",
      "enter a string :his nick is kazi\n",
      "his nick is kazi\n"
     ]
    }
   ],
   "source": [
    "import pyinputplus as pypi \n",
    "inp3 = pypi.inputStr(prompt='enter a string :',blank=True,blockRegexes='m')\n",
    "print(inp3)"
   ]
  },
  {
   "cell_type": "markdown",
   "id": "123866a0",
   "metadata": {},
   "source": [
    "So it is not allowing 'm' letter because we gave a command that 'm' should be blocked "
   ]
  },
  {
   "cell_type": "code",
   "execution_count": 3,
   "id": "a75e8b20",
   "metadata": {},
   "outputs": [
    {
     "name": "stdout",
     "output_type": "stream",
     "text": [
      "Input :KAZIM\n",
      "'KAZIM' is not a number.\n",
      "Input :KAZICM\n"
     ]
    },
    {
     "data": {
      "text/plain": [
       "'KAZICM'"
      ]
     },
     "execution_count": 3,
     "metadata": {},
     "output_type": "execute_result"
    }
   ],
   "source": [
    "import pyinputplus as pypi\n",
    "pypi.inputNum('Input :',allowRegexes=[r'(C)+'])"
   ]
  },
  {
   "cell_type": "markdown",
   "id": "654bc56d",
   "metadata": {},
   "source": [
    "SO although it supposed to just send a number in output but we allowed anything containing letter C. so it is allowing \n",
    "\n",
    "a string with letter C"
   ]
  },
  {
   "cell_type": "code",
   "execution_count": null,
   "id": "44cae873",
   "metadata": {},
   "outputs": [],
   "source": []
  },
  {
   "cell_type": "markdown",
   "id": "6194006d",
   "metadata": {},
   "source": [
    "#                       Question#6\n",
    "# If a blank input is entered three times, what does inputStr(limit=3) do?"
   ]
  },
  {
   "cell_type": "markdown",
   "id": "195d6d73",
   "metadata": {},
   "source": [
    "The limit parameter is used to specify the maximum number of tries the use has for entering a valid input, after which \n",
    "\n",
    "the default value is returned"
   ]
  },
  {
   "cell_type": "code",
   "execution_count": 5,
   "id": "882e0ed7",
   "metadata": {},
   "outputs": [
    {
     "name": "stdout",
     "output_type": "stream",
     "text": [
      "enter an integer :kazim\n",
      "'kazim' is not an integer.\n",
      "enter an integer :2.2\n",
      "'2.2' is not an integer.\n",
      "enter an integer :assdaas122121\n",
      "'assdaas122121' is not an integer.\n",
      "input limit exceed\n"
     ]
    }
   ],
   "source": [
    "try:\n",
    "    import pyinputplus as pypi\n",
    "    inp4 = pypi.inputInt('enter an integer :',limit=3)\n",
    "    print(inp4)\n",
    "except:\n",
    "    print('input limit exceed')"
   ]
  },
  {
   "cell_type": "markdown",
   "id": "7072bb7e",
   "metadata": {},
   "source": [
    "#                       Question#7\n",
    "# If blank input is entered three times, what does inputStr(limit=3, default='hello') do?"
   ]
  },
  {
   "cell_type": "code",
   "execution_count": 6,
   "id": "f394a746",
   "metadata": {},
   "outputs": [
    {
     "name": "stdout",
     "output_type": "stream",
     "text": [
      "\n",
      "Blank values are not allowed.\n",
      "\n",
      "Blank values are not allowed.\n",
      "\n",
      "Blank values are not allowed.\n",
      "hello\n"
     ]
    }
   ],
   "source": [
    "import pyinputplus as pypi\n",
    "inp5 = pypi.inputStr(limit=3,default='hello')\n",
    "print(inp5)"
   ]
  },
  {
   "cell_type": "markdown",
   "id": "6aa54ba9",
   "metadata": {},
   "source": [
    "So after exceeding input limits it is printing default value which is hello"
   ]
  },
  {
   "cell_type": "code",
   "execution_count": 4,
   "id": "a86bbd06",
   "metadata": {},
   "outputs": [],
   "source": [
    "                        # just for personal information"
   ]
  },
  {
   "cell_type": "code",
   "execution_count": 5,
   "id": "bbe4a6de",
   "metadata": {},
   "outputs": [],
   "source": [
    "#inputNum() # accepts numeric value and return int or float\n",
    "#inputStr() # accepts a string value. it provides features such as 'blockRegexes','timeout','limit' etc\n",
    "#inputInt() # accepts an integer value and returns an int\n",
    "#inputFloat() # accepts a floating-point numeric value and returns a float\n",
    "#inputBool() # accepts boolean and returns boolean\n",
    "#inputChoice() # takes a list of strings and accepts one of them as input \n",
    "#inputMenu()  \n",
    "#inputDate()\n",
    "#inputTime()\n",
    "#inputDatetime()\n",
    "#inputYesno()"
   ]
  },
  {
   "cell_type": "code",
   "execution_count": null,
   "id": "bcbb47fd",
   "metadata": {},
   "outputs": [],
   "source": []
  }
 ],
 "metadata": {
  "kernelspec": {
   "display_name": "Python 3 (ipykernel)",
   "language": "python",
   "name": "python3"
  },
  "language_info": {
   "codemirror_mode": {
    "name": "ipython",
    "version": 3
   },
   "file_extension": ".py",
   "mimetype": "text/x-python",
   "name": "python",
   "nbconvert_exporter": "python",
   "pygments_lexer": "ipython3",
   "version": "3.9.7"
  }
 },
 "nbformat": 4,
 "nbformat_minor": 5
}
