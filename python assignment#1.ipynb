{
 "cells": [
  {
   "cell_type": "code",
   "execution_count": null,
   "id": "f8523a5f",
   "metadata": {},
   "outputs": [],
   "source": [
    "\"\"\"              Question#1   \n",
    "Symbol       type \n",
    "*            Mathematical operator(multiply)\n",
    "'hello'      string of characters\n",
    "-87.8        float \n",
    "-            mathematical operator(minus)\n",
    "/            mathematical operator(division)\n",
    "+            mathematical operator(plus)\n",
    "6            Integer \"\"\" "
   ]
  },
  {
   "cell_type": "code",
   "execution_count": null,
   "id": "4f717fc8",
   "metadata": {},
   "outputs": [],
   "source": [
    "\"\"\"               Quesion#2\n",
    "what is the difference between string and variable?\n",
    "String   -  A string is anyhting that is rerpresented inside quotes. \n",
    "Variable -  A variable can be any data type. I can be an integer, float, string etc. \n",
    "            It is used to store any of aforementioned data types  \"\"\""
   ]
  },
  {
   "cell_type": "code",
   "execution_count": null,
   "id": "c57f60a7",
   "metadata": {},
   "outputs": [],
   "source": [
    "\"\"\"           Question#3 \n",
    "Describe three different data types?\n",
    "\n",
    "1- Numeric  -- Integers, Float and complex numbers are included in this category.\n",
    "2- Boolean  -- True and False (1  0)\n",
    "3- Sequence -- String, list, and tuple \n",
    "\n"
   ]
  },
  {
   "cell_type": "code",
   "execution_count": null,
   "id": "bd3b720a",
   "metadata": {},
   "outputs": [],
   "source": [
    "\"\"\"          Question#4\n",
    "An expression is made up of different data types, operators, and variable which when evaluated gives desired result."
   ]
  },
  {
   "cell_type": "code",
   "execution_count": 29,
   "id": "1eccde2e",
   "metadata": {},
   "outputs": [],
   "source": [
    "#Question 6"
   ]
  },
  {
   "cell_type": "code",
   "execution_count": 5,
   "id": "4831fdf0",
   "metadata": {},
   "outputs": [],
   "source": [
    "bacon = 22"
   ]
  },
  {
   "cell_type": "code",
   "execution_count": 6,
   "id": "e5a61548",
   "metadata": {},
   "outputs": [
    {
     "data": {
      "text/plain": [
       "23"
      ]
     },
     "execution_count": 6,
     "metadata": {},
     "output_type": "execute_result"
    }
   ],
   "source": [
    "bacon +1"
   ]
  },
  {
   "cell_type": "code",
   "execution_count": null,
   "id": "fa0212c2",
   "metadata": {},
   "outputs": [],
   "source": [
    "#Question 7"
   ]
  },
  {
   "cell_type": "code",
   "execution_count": 7,
   "id": "b1fadfaa",
   "metadata": {},
   "outputs": [
    {
     "data": {
      "text/plain": [
       "'spamspamspam'"
      ]
     },
     "execution_count": 7,
     "metadata": {},
     "output_type": "execute_result"
    }
   ],
   "source": [
    "'spam' + \"spamspam\""
   ]
  },
  {
   "cell_type": "code",
   "execution_count": 8,
   "id": "19accca3",
   "metadata": {},
   "outputs": [
    {
     "data": {
      "text/plain": [
       "'spamspamspam'"
      ]
     },
     "execution_count": 8,
     "metadata": {},
     "output_type": "execute_result"
    }
   ],
   "source": [
    "'spam' * 3"
   ]
  },
  {
   "cell_type": "code",
   "execution_count": 9,
   "id": "7ea61cd1",
   "metadata": {},
   "outputs": [
    {
     "ename": "SyntaxError",
     "evalue": "invalid binary literal (33263894.py, line 4)",
     "output_type": "error",
     "traceback": [
      "\u001b[0;36m  File \u001b[0;32m\"/var/folders/y4/qdwtwnqx71l51dtpzxylx43h0000gn/T/ipykernel_1348/33263894.py\"\u001b[0;36m, line \u001b[0;32m4\u001b[0m\n\u001b[0;31m    0b =10\u001b[0m\n\u001b[0m     ^\u001b[0m\n\u001b[0;31mSyntaxError\u001b[0m\u001b[0;31m:\u001b[0m invalid binary literal\n"
     ]
    }
   ],
   "source": [
    "\"\"\" Question#8 \n",
    "A variable must starts with a character. For example 0b is not allowed and it will give an error\"\"\"\n",
    "\n",
    "0b =10"
   ]
  },
  {
   "cell_type": "code",
   "execution_count": 10,
   "id": "4d917163",
   "metadata": {},
   "outputs": [],
   "source": [
    "b0=10"
   ]
  },
  {
   "cell_type": "code",
   "execution_count": 11,
   "id": "03a3cbb6",
   "metadata": {},
   "outputs": [
    {
     "data": {
      "text/plain": [
       "10"
      ]
     },
     "execution_count": 11,
     "metadata": {},
     "output_type": "execute_result"
    }
   ],
   "source": [
    "b0"
   ]
  },
  {
   "cell_type": "code",
   "execution_count": 15,
   "id": "c97f1c05",
   "metadata": {},
   "outputs": [
    {
     "ename": "TypeError",
     "evalue": "can only concatenate str (not \"int\") to str",
     "output_type": "error",
     "traceback": [
      "\u001b[0;31m---------------------------------------------------------------------------\u001b[0m",
      "\u001b[0;31mTypeError\u001b[0m                                 Traceback (most recent call last)",
      "\u001b[0;32m/var/folders/y4/qdwtwnqx71l51dtpzxylx43h0000gn/T/ipykernel_1348/3776746694.py\u001b[0m in \u001b[0;36m<module>\u001b[0;34m\u001b[0m\n\u001b[1;32m      1\u001b[0m \u001b[0;31m# Question#10\u001b[0m\u001b[0;34m\u001b[0m\u001b[0;34m\u001b[0m\u001b[0m\n\u001b[0;32m----> 2\u001b[0;31m \u001b[0;34m'I have eaten'\u001b[0m \u001b[0;34m+\u001b[0m \u001b[0;36m99\u001b[0m \u001b[0;34m+\u001b[0m \u001b[0;34m'burritos.'\u001b[0m\u001b[0;34m\u001b[0m\u001b[0;34m\u001b[0m\u001b[0m\n\u001b[0m",
      "\u001b[0;31mTypeError\u001b[0m: can only concatenate str (not \"int\") to str"
     ]
    }
   ],
   "source": [
    "# Question#10\n",
    "'I have eaten' + 99 + 'burritos.'"
   ]
  },
  {
   "cell_type": "code",
   "execution_count": 18,
   "id": "d8a0494b",
   "metadata": {},
   "outputs": [
    {
     "data": {
      "text/plain": [
       "'I have eaten 99 burritos.'"
      ]
     },
     "execution_count": 18,
     "metadata": {},
     "output_type": "execute_result"
    }
   ],
   "source": [
    "'I have eaten' +\" \" '99' \" \" + 'burritos.'"
   ]
  },
  {
   "cell_type": "code",
   "execution_count": 23,
   "id": "11707760",
   "metadata": {},
   "outputs": [],
   "source": [
    "a = 1.12121"
   ]
  },
  {
   "cell_type": "code",
   "execution_count": 24,
   "id": "184039e1",
   "metadata": {},
   "outputs": [
    {
     "data": {
      "text/plain": [
       "1"
      ]
     },
     "execution_count": 24,
     "metadata": {},
     "output_type": "execute_result"
    }
   ],
   "source": [
    "int(a)"
   ]
  },
  {
   "cell_type": "code",
   "execution_count": 25,
   "id": "93dd94d0",
   "metadata": {},
   "outputs": [],
   "source": [
    "b = 25"
   ]
  },
  {
   "cell_type": "code",
   "execution_count": 26,
   "id": "8c989dd8",
   "metadata": {},
   "outputs": [
    {
     "data": {
      "text/plain": [
       "25.0"
      ]
     },
     "execution_count": 26,
     "metadata": {},
     "output_type": "execute_result"
    }
   ],
   "source": [
    "float(b)"
   ]
  },
  {
   "cell_type": "code",
   "execution_count": 27,
   "id": "7694d528",
   "metadata": {},
   "outputs": [],
   "source": [
    "c = 'my name is kazim'"
   ]
  },
  {
   "cell_type": "code",
   "execution_count": 28,
   "id": "6cc7feb5",
   "metadata": {},
   "outputs": [
    {
     "data": {
      "text/plain": [
       "'my name is kazim'"
      ]
     },
     "execution_count": 28,
     "metadata": {},
     "output_type": "execute_result"
    }
   ],
   "source": [
    "str(c)"
   ]
  },
  {
   "cell_type": "code",
   "execution_count": 30,
   "id": "6beaeb46",
   "metadata": {},
   "outputs": [],
   "source": [
    "# Question 9 : int(), float(), str() functions can be used to get integer, floating-point or string. "
   ]
  },
  {
   "cell_type": "code",
   "execution_count": null,
   "id": "71b93081",
   "metadata": {},
   "outputs": [],
   "source": []
  }
 ],
 "metadata": {
  "kernelspec": {
   "display_name": "Python 3 (ipykernel)",
   "language": "python",
   "name": "python3"
  },
  "language_info": {
   "codemirror_mode": {
    "name": "ipython",
    "version": 3
   },
   "file_extension": ".py",
   "mimetype": "text/x-python",
   "name": "python",
   "nbconvert_exporter": "python",
   "pygments_lexer": "ipython3",
   "version": "3.9.7"
  }
 },
 "nbformat": 4,
 "nbformat_minor": 5
}
