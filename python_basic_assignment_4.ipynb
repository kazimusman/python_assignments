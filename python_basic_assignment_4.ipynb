{
 "cells": [
  {
   "cell_type": "markdown",
   "id": "d56450f5",
   "metadata": {},
   "source": [
    "# Pyton basic programming Assignment 4"
   ]
  },
  {
   "cell_type": "code",
   "execution_count": 19,
   "id": "3762a1a3",
   "metadata": {},
   "outputs": [
    {
     "data": {
      "text/plain": [
       "list"
      ]
     },
     "execution_count": 19,
     "metadata": {},
     "output_type": "execute_result"
    }
   ],
   "source": [
    "#                        QUESTION 1\n",
    "# What exactly is []\n",
    "a = []\n",
    "type(a)"
   ]
  },
  {
   "cell_type": "code",
   "execution_count": null,
   "id": "a0af57a8",
   "metadata": {},
   "outputs": [],
   "source": [
    "# so [] is a list "
   ]
  },
  {
   "cell_type": "code",
   "execution_count": 2,
   "id": "0bce6555",
   "metadata": {},
   "outputs": [],
   "source": [
    "#                        QUESTION 2\n",
    "# In a list of values stored in a variable called spam, how would you assign the value \"hello\" as the third value? Assume \n",
    "# [2,4,6,8,10] are in spam"
   ]
  },
  {
   "cell_type": "code",
   "execution_count": 23,
   "id": "6340256c",
   "metadata": {},
   "outputs": [
    {
     "data": {
      "text/plain": [
       "[2, 4, 'hello', 6, 8, 10]"
      ]
     },
     "execution_count": 23,
     "metadata": {},
     "output_type": "execute_result"
    }
   ],
   "source": [
    "spam = [2,4,6,8,10]\n",
    "spam.insert(2,'hello')\n",
    "spam"
   ]
  },
  {
   "cell_type": "code",
   "execution_count": 3,
   "id": "52b78fab",
   "metadata": {},
   "outputs": [],
   "source": [
    "#                        QUESTION 3\n",
    "# let's pretend the spam includes the list ['a','b','c','d']\n",
    "# what is the value of spam[int(int('3'*2)/11)]?"
   ]
  },
  {
   "cell_type": "code",
   "execution_count": 36,
   "id": "021d19cf",
   "metadata": {},
   "outputs": [
    {
     "name": "stdout",
     "output_type": "stream",
     "text": [
      "int(\"3\"*2) = 33 int(int(\"3\"*2)/11 = 3\n",
      "spam[int(int(\"3\"*2)/11)] = d\n",
      "spam[3] =  d\n"
     ]
    }
   ],
   "source": [
    "spam = ['a','b','c','d']\n",
    "a = int('3'*2)\n",
    "b = int(a/11)\n",
    "print('int(\"3\"*2) =',a,'int(int(\"3\"*2)/11 =',b)\n",
    "print('spam[int(int(\"3\"*2)/11)] =',spam[b])\n",
    "print('spam[3] = ',spam[3])"
   ]
  },
  {
   "cell_type": "code",
   "execution_count": 4,
   "id": "fe4c3454",
   "metadata": {},
   "outputs": [],
   "source": [
    "#                        QUESTION 4\n",
    "# let's pretend the spam includes the list ['a','b','c','d']\n",
    "# what is the value of spam[-1]"
   ]
  },
  {
   "cell_type": "code",
   "execution_count": 37,
   "id": "afb653ef",
   "metadata": {},
   "outputs": [
    {
     "data": {
      "text/plain": [
       "'d'"
      ]
     },
     "execution_count": 37,
     "metadata": {},
     "output_type": "execute_result"
    }
   ],
   "source": [
    "spam = ['a','b','c','d']\n",
    "spam[-1]"
   ]
  },
  {
   "cell_type": "code",
   "execution_count": 5,
   "id": "ad5050da",
   "metadata": {},
   "outputs": [],
   "source": [
    "#                        QUESTION 5\n",
    "# let's pretend the spam includes the list ['a','b','c','d']\n",
    "# what is the value of spam[:2]"
   ]
  },
  {
   "cell_type": "code",
   "execution_count": 38,
   "id": "9d700744",
   "metadata": {},
   "outputs": [
    {
     "data": {
      "text/plain": [
       "['a', 'b']"
      ]
     },
     "execution_count": 38,
     "metadata": {},
     "output_type": "execute_result"
    }
   ],
   "source": [
    "spam = ['a','b','c','d']\n",
    "spam[:2]"
   ]
  },
  {
   "cell_type": "code",
   "execution_count": 6,
   "id": "ae62aa69",
   "metadata": {},
   "outputs": [],
   "source": [
    "#                        QUESTION 6\n",
    "# let's pretend bacon has the list [3.14,'cat',11,'cat',True]\n",
    "# what is the value of bacon.index('cat')?"
   ]
  },
  {
   "cell_type": "code",
   "execution_count": 45,
   "id": "3af0602e",
   "metadata": {},
   "outputs": [
    {
     "data": {
      "text/plain": [
       "1"
      ]
     },
     "execution_count": 45,
     "metadata": {},
     "output_type": "execute_result"
    }
   ],
   "source": [
    "bacon = [3.14, 'cat', 11, 'cat', True]\n",
    "bacon.index('cat')"
   ]
  },
  {
   "cell_type": "code",
   "execution_count": 7,
   "id": "86a28f21",
   "metadata": {},
   "outputs": [],
   "source": [
    "#                        QUESTION 7\n",
    "# let's pretend bacon has the list [3.14,'cat',11,'cat',True]\n",
    "#  How does bacon.append(99) change the look of the list value in bacon?"
   ]
  },
  {
   "cell_type": "code",
   "execution_count": 48,
   "id": "03bbc7e3",
   "metadata": {},
   "outputs": [
    {
     "data": {
      "text/plain": [
       "[3.14, 'cat', 11, 'cat', True, 99]"
      ]
     },
     "execution_count": 48,
     "metadata": {},
     "output_type": "execute_result"
    }
   ],
   "source": [
    "bacon = [3.14, 'cat', 11, 'cat', True]\n",
    "bacon.append(99)\n",
    "bacon"
   ]
  },
  {
   "cell_type": "code",
   "execution_count": null,
   "id": "8a486bb2",
   "metadata": {},
   "outputs": [],
   "source": [
    "# adds 99 in the list(bacon) at last index. Now list length is increased by 1 "
   ]
  },
  {
   "cell_type": "code",
   "execution_count": 8,
   "id": "05af530a",
   "metadata": {},
   "outputs": [],
   "source": [
    "#                        QUESTION 8\n",
    "# let's pretend bacon has the list [3.14,'cat',11,'cat',True]\n",
    "# How does bacon.remove('cat') change the look of the list in bacon?"
   ]
  },
  {
   "cell_type": "code",
   "execution_count": 49,
   "id": "a1a39294",
   "metadata": {},
   "outputs": [
    {
     "data": {
      "text/plain": [
       "[3.14, 11, 'cat', True]"
      ]
     },
     "execution_count": 49,
     "metadata": {},
     "output_type": "execute_result"
    }
   ],
   "source": [
    "bacon = [3.14,'cat',11,'cat',True]\n",
    "bacon.remove('cat')\n",
    "bacon"
   ]
  },
  {
   "cell_type": "code",
   "execution_count": null,
   "id": "6def9bfe",
   "metadata": {},
   "outputs": [],
   "source": [
    "# removes the string \"cat\" that comes first "
   ]
  },
  {
   "cell_type": "code",
   "execution_count": 9,
   "id": "0032a155",
   "metadata": {},
   "outputs": [],
   "source": [
    "#                        QUESTION 9\n",
    "# What are the list concatenation and list replication operators?"
   ]
  },
  {
   "cell_type": "code",
   "execution_count": 52,
   "id": "f0966f0a",
   "metadata": {},
   "outputs": [
    {
     "name": "stdout",
     "output_type": "stream",
     "text": [
      "concatenation : ['ineuron', 3.14, 786, (2+7j), True, 'data science', 78.6, 10, (3+8j), False]\n",
      "replication : ['ineuron', 3.14, 786, (2+7j), True, 'ineuron', 3.14, 786, (2+7j), True, 'ineuron', 3.14, 786, (2+7j), True]\n"
     ]
    }
   ],
   "source": [
    "lst1 = ['ineuron', 3.14, 786, 2+7j, True]\n",
    "lst2 = ['data science', 78.6, 10, 3+8j, False]\n",
    "print(\"concatenation :\",lst1+lst2)\n",
    "print(\"replication :\",lst1*3)"
   ]
  },
  {
   "cell_type": "code",
   "execution_count": 10,
   "id": "a409c4a3",
   "metadata": {},
   "outputs": [],
   "source": [
    "#                        QUESTION 10\n",
    "# What is difference between the list methods append() and insert()?"
   ]
  },
  {
   "cell_type": "code",
   "execution_count": 58,
   "id": "48c3cdfb",
   "metadata": {},
   "outputs": [
    {
     "data": {
      "text/plain": [
       "['ineuron', 3.14, 786, (2+7j), True, 'kazim']"
      ]
     },
     "execution_count": 58,
     "metadata": {},
     "output_type": "execute_result"
    }
   ],
   "source": [
    "lst1 = ['ineuron', 3.14, 786, 2+7j, True]\n",
    "lst1.append('kazim')\n",
    "lst1"
   ]
  },
  {
   "cell_type": "code",
   "execution_count": 59,
   "id": "cdb6cf04",
   "metadata": {},
   "outputs": [
    {
     "data": {
      "text/plain": [
       "['ineuron', 'usman', 3.14, 786, (2+7j), True, 'kazim']"
      ]
     },
     "execution_count": 59,
     "metadata": {},
     "output_type": "execute_result"
    }
   ],
   "source": [
    "lst1.insert(1,\"usman\")\n",
    "lst1"
   ]
  },
  {
   "cell_type": "code",
   "execution_count": null,
   "id": "faa06320",
   "metadata": {},
   "outputs": [],
   "source": [
    "# So in append() we can add element only at the end of the list whereas if we want to add anything at specified index then \n",
    "# we can use insert()"
   ]
  },
  {
   "cell_type": "code",
   "execution_count": 11,
   "id": "467410cf",
   "metadata": {},
   "outputs": [],
   "source": [
    "#                        QUESTION 11\n",
    "# What are the two methods for removing items from a list?"
   ]
  },
  {
   "cell_type": "code",
   "execution_count": 66,
   "id": "346f1e9e",
   "metadata": {},
   "outputs": [
    {
     "name": "stdout",
     "output_type": "stream",
     "text": [
      "lst1=  ['ineuron', 786, (2+7j), True]\n",
      "lst2 = ['kazim', True, [1, 2, 3, 4]]\n"
     ]
    }
   ],
   "source": [
    "lst1 = ['ineuron', 3.14, 786, 2+7j, True]\n",
    "lst1.remove(3.14)\n",
    "print(\"lst1= \",lst1)\n",
    "lst2 = ['kazim',10, True, [1,2,3,4]]\n",
    "lst2.pop(1)\n",
    "print(\"lst2 =\",lst2)"
   ]
  },
  {
   "cell_type": "code",
   "execution_count": null,
   "id": "5dca8549",
   "metadata": {},
   "outputs": [],
   "source": [
    "# lst1.remove Removes first occurrence of value\n",
    "# lst2.pop    Remove and return item at index"
   ]
  },
  {
   "cell_type": "code",
   "execution_count": 12,
   "id": "61f87148",
   "metadata": {},
   "outputs": [],
   "source": [
    "#                        QUESTION 12\n",
    "# Describe how list values and string values are identical.\n",
    "\n",
    "# both are sequences."
   ]
  },
  {
   "cell_type": "code",
   "execution_count": 13,
   "id": "60c13285",
   "metadata": {},
   "outputs": [],
   "source": [
    "#                        QUESTION 13\n",
    "#  What's the difference between tuples and lists?"
   ]
  },
  {
   "cell_type": "code",
   "execution_count": 69,
   "id": "1e4dc5c0",
   "metadata": {},
   "outputs": [
    {
     "name": "stdout",
     "output_type": "stream",
     "text": [
      "my_lst ['kazim', 3.14, True]\n"
     ]
    },
    {
     "ename": "TypeError",
     "evalue": "'tuple' object does not support item assignment",
     "output_type": "error",
     "traceback": [
      "\u001b[1;31m---------------------------------------------------------------------------\u001b[0m",
      "\u001b[1;31mTypeError\u001b[0m                                 Traceback (most recent call last)",
      "\u001b[1;32m<ipython-input-69-dbef9cae72e1>\u001b[0m in \u001b[0;36m<module>\u001b[1;34m\u001b[0m\n\u001b[0;32m      6\u001b[0m \u001b[0mprint\u001b[0m\u001b[1;33m(\u001b[0m\u001b[1;34m\"my_lst\"\u001b[0m\u001b[1;33m,\u001b[0m\u001b[0mmy_lst\u001b[0m\u001b[1;33m)\u001b[0m\u001b[1;33m\u001b[0m\u001b[1;33m\u001b[0m\u001b[0m\n\u001b[0;32m      7\u001b[0m \u001b[1;33m\u001b[0m\u001b[0m\n\u001b[1;32m----> 8\u001b[1;33m \u001b[0mmy_tuple\u001b[0m\u001b[1;33m[\u001b[0m\u001b[1;36m0\u001b[0m\u001b[1;33m]\u001b[0m \u001b[1;33m=\u001b[0m \u001b[1;34m\"kazim\"\u001b[0m\u001b[1;33m\u001b[0m\u001b[1;33m\u001b[0m\u001b[0m\n\u001b[0m\u001b[0;32m      9\u001b[0m \u001b[0mprint\u001b[0m\u001b[1;33m(\u001b[0m\u001b[1;34m\"my_tuple = \"\u001b[0m\u001b[1;33m,\u001b[0m \u001b[0mmy_tuple\u001b[0m\u001b[1;33m)\u001b[0m\u001b[1;33m\u001b[0m\u001b[1;33m\u001b[0m\u001b[0m\n",
      "\u001b[1;31mTypeError\u001b[0m: 'tuple' object does not support item assignment"
     ]
    }
   ],
   "source": [
    "# Tuple is not mutable, once you have define a tuple, you can not change the elements of a tuple\n",
    "my_lst = ['ineuron', 3.14, True]\n",
    "my_tuple = ('ineuron',3.14, True)\n",
    "\n",
    "my_lst[0] = \"kazim\"\n",
    "print(\"my_lst\",my_lst)\n",
    "\n",
    "my_tuple[0] = \"kazim\"\n",
    "print(\"my_tuple = \", my_tuple)"
   ]
  },
  {
   "cell_type": "code",
   "execution_count": 14,
   "id": "c6c014dc",
   "metadata": {},
   "outputs": [],
   "source": [
    "#                        QUESTION 14\n",
    "# How do you type a tuple value that only contains the integer 42?"
   ]
  },
  {
   "cell_type": "code",
   "execution_count": 75,
   "id": "c851955a",
   "metadata": {},
   "outputs": [
    {
     "name": "stdout",
     "output_type": "stream",
     "text": [
      "tup = (42,)\n"
     ]
    },
    {
     "data": {
      "text/plain": [
       "tuple"
      ]
     },
     "execution_count": 75,
     "metadata": {},
     "output_type": "execute_result"
    }
   ],
   "source": [
    "tup = (42,)\n",
    "print(\"tup =\",tup)\n",
    "type(tup)"
   ]
  },
  {
   "cell_type": "code",
   "execution_count": 15,
   "id": "712411a8",
   "metadata": {},
   "outputs": [],
   "source": [
    "#                        QUESTION 15\n",
    "# How do you get a list value's tuple form? How do you get a tuple value's list form?\n",
    "# The tuple() and list() functions, respectively"
   ]
  },
  {
   "cell_type": "code",
   "execution_count": 16,
   "id": "995e7a7f",
   "metadata": {},
   "outputs": [],
   "source": [
    "#                        QUESTION 16\n",
    "#  Variables that \"contain\" list values are not necessarily lists themselves. Instead, what do they contain?\n",
    "# They contain references to list values."
   ]
  },
  {
   "cell_type": "code",
   "execution_count": 17,
   "id": "d21c04f7",
   "metadata": {},
   "outputs": [],
   "source": [
    "#                        QUESTION 17\n",
    "# How do you distinguish between copy.copy() and copy.deepcopy()?\n"
   ]
  },
  {
   "cell_type": "code",
   "execution_count": 91,
   "id": "26d1c518",
   "metadata": {},
   "outputs": [],
   "source": [
    "lst1 = [[1,2,3,4],[5,6,7,8]]\n",
    "lst2 = lst1.copy()"
   ]
  },
  {
   "cell_type": "code",
   "execution_count": 92,
   "id": "1ea041e9",
   "metadata": {},
   "outputs": [
    {
     "data": {
      "text/plain": [
       "[[1, 2, 3, 4], [40, 6, 7, 8]]"
      ]
     },
     "execution_count": 92,
     "metadata": {},
     "output_type": "execute_result"
    }
   ],
   "source": [
    "lst1[1][0]=40\n",
    "lst1"
   ]
  },
  {
   "cell_type": "code",
   "execution_count": 93,
   "id": "230bcbce",
   "metadata": {
    "scrolled": true
   },
   "outputs": [
    {
     "data": {
      "text/plain": [
       "[[1, 2, 3, 4], [40, 6, 7, 8]]"
      ]
     },
     "execution_count": 93,
     "metadata": {},
     "output_type": "execute_result"
    }
   ],
   "source": [
    "lst2"
   ]
  },
  {
   "cell_type": "code",
   "execution_count": 96,
   "id": "2820d455",
   "metadata": {},
   "outputs": [],
   "source": [
    "import copy \n",
    "lst3 = [[1,2,3,4],[5,6,7,8]]\n",
    "lst4 = copy.deepcopy(lst3)"
   ]
  },
  {
   "cell_type": "code",
   "execution_count": 99,
   "id": "2c84f4fe",
   "metadata": {},
   "outputs": [],
   "source": [
    "lst4[1][0] = 40"
   ]
  },
  {
   "cell_type": "code",
   "execution_count": 100,
   "id": "04e209bc",
   "metadata": {},
   "outputs": [
    {
     "data": {
      "text/plain": [
       "[[1, 2, 3, 4], [5, 6, 7, 8]]"
      ]
     },
     "execution_count": 100,
     "metadata": {},
     "output_type": "execute_result"
    }
   ],
   "source": [
    "lst3"
   ]
  },
  {
   "cell_type": "code",
   "execution_count": 101,
   "id": "0fb916d1",
   "metadata": {},
   "outputs": [
    {
     "data": {
      "text/plain": [
       "[[1, 2, 3, 4], [40, 6, 7, 8]]"
      ]
     },
     "execution_count": 101,
     "metadata": {},
     "output_type": "execute_result"
    }
   ],
   "source": [
    "lst4"
   ]
  },
  {
   "cell_type": "code",
   "execution_count": null,
   "id": "af4e9ed6",
   "metadata": {},
   "outputs": [],
   "source": [
    "# deepcopy is useful if you want to do some changes inside nested list indexes. Here you can see 40 is not replaced by 5\n",
    "# when we used deepcopy command."
   ]
  }
 ],
 "metadata": {
  "kernelspec": {
   "display_name": "Python 3",
   "language": "python",
   "name": "python3"
  },
  "language_info": {
   "codemirror_mode": {
    "name": "ipython",
    "version": 3
   },
   "file_extension": ".py",
   "mimetype": "text/x-python",
   "name": "python",
   "nbconvert_exporter": "python",
   "pygments_lexer": "ipython3",
   "version": "3.8.8"
  }
 },
 "nbformat": 4,
 "nbformat_minor": 5
}
