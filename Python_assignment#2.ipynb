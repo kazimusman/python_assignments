{
 "cells": [
  {
   "cell_type": "code",
   "execution_count": 1,
   "id": "cacc329b",
   "metadata": {},
   "outputs": [],
   "source": [
    "#                                         Assignment#2"
   ]
  },
  {
   "cell_type": "code",
   "execution_count": null,
   "id": "47212e53",
   "metadata": {},
   "outputs": [],
   "source": [
    "#    Question 1"
   ]
  },
  {
   "cell_type": "code",
   "execution_count": null,
   "id": "8b3d2805",
   "metadata": {},
   "outputs": [],
   "source": [
    "# so two Boolean types are True and False. Example is given for explanation"
   ]
  },
  {
   "cell_type": "code",
   "execution_count": 3,
   "id": "c89b07e7",
   "metadata": {},
   "outputs": [],
   "source": [
    "a = \"data science\""
   ]
  },
  {
   "cell_type": "code",
   "execution_count": 18,
   "id": "6a8c8433",
   "metadata": {},
   "outputs": [],
   "source": [
    "d = \"Data science\""
   ]
  },
  {
   "cell_type": "code",
   "execution_count": 19,
   "id": "36b8ca43",
   "metadata": {},
   "outputs": [
    {
     "name": "stdout",
     "output_type": "stream",
     "text": [
      "False\n"
     ]
    }
   ],
   "source": [
    "if a == d:\n",
    "    print(True)\n",
    "else:\n",
    "    print(False)"
   ]
  },
  {
   "cell_type": "code",
   "execution_count": 20,
   "id": "ad86ada3",
   "metadata": {},
   "outputs": [],
   "source": [
    "#    Question 2"
   ]
  },
  {
   "cell_type": "code",
   "execution_count": 21,
   "id": "7e9711ce",
   "metadata": {},
   "outputs": [],
   "source": [
    "# or, and , not are boolean operators"
   ]
  },
  {
   "cell_type": "code",
   "execution_count": 22,
   "id": "d6b9d9f5",
   "metadata": {},
   "outputs": [],
   "source": [
    "#    Questions 3"
   ]
  },
  {
   "cell_type": "code",
   "execution_count": 38,
   "id": "c221ce65",
   "metadata": {},
   "outputs": [
    {
     "name": "stdout",
     "output_type": "stream",
     "text": [
      "a and a = True\n",
      "a and b = False\n",
      "b and a = False\n",
      "b and b = False\n",
      "a or a = True\n",
      "a or b = True\n",
      "b or a = True\n",
      "b or b = False\n",
      "not a = False\n",
      "not b = True\n"
     ]
    }
   ],
   "source": [
    "a = True \n",
    "b = False\n",
    "print(\"a and a =\",a) \n",
    "print(\"a and b =\",b)\n",
    "print(\"b and a =\",b)\n",
    "print(\"b and b =\",b)\n",
    "print(\"a or a =\",a)\n",
    "print(\"a or b =\",a)\n",
    "print(\"b or a =\",a)\n",
    "print(\"b or b =\",b)\n",
    "print (\"not a =\",b)\n",
    "print (\"not b =\",a)"
   ]
  },
  {
   "cell_type": "code",
   "execution_count": 39,
   "id": "48538d9c",
   "metadata": {},
   "outputs": [
    {
     "name": "stdout",
     "output_type": "stream",
     "text": [
      "True\n",
      "False\n",
      "False\n",
      "False\n",
      "True\n",
      "True\n",
      "True\n",
      "False\n",
      "False\n",
      "True\n"
     ]
    }
   ],
   "source": [
    "print (a and a)\n",
    "print (a and b)\n",
    "print (b and a)\n",
    "print (b and b)\n",
    "print (a or a)\n",
    "print (a or b)\n",
    "print (b or a)\n",
    "print (b or b)\n",
    "print (not a)\n",
    "print (not b)"
   ]
  },
  {
   "cell_type": "code",
   "execution_count": 40,
   "id": "3dc64d2b",
   "metadata": {},
   "outputs": [],
   "source": [
    "# Question 4"
   ]
  },
  {
   "cell_type": "code",
   "execution_count": 51,
   "id": "259249ce",
   "metadata": {},
   "outputs": [
    {
     "name": "stdout",
     "output_type": "stream",
     "text": [
      "5>4 and 3==5       = False\n",
      "not(5>4)           = False\n",
      "5>4 or 3==5        = True\n",
      "not(5>4 or (3==5)) = False\n",
      "(True and True) and (True == False) = False\n",
      "(not False) or (Not True) = True\n"
     ]
    }
   ],
   "source": [
    "a , b , c = 3, 4, 5\n",
    "print(\"5>4 and 3==5       =\",c>b and a==c )\n",
    "print(\"not(5>4)           =\", not(c>b))\n",
    "print(\"5>4 or 3==5        =\",c>4 or a==c )\n",
    "print(\"not(5>4 or (3==5)) =\", not(c>b or a==c))\n",
    "print(\"(True and True) and (True == False) =\", (True and True) and (True == False))\n",
    "print(\"(not False) or (Not True) =\",(not False) or (not True) )"
   ]
  },
  {
   "cell_type": "code",
   "execution_count": 52,
   "id": "eb45a757",
   "metadata": {},
   "outputs": [],
   "source": [
    "#   Question 5"
   ]
  },
  {
   "cell_type": "code",
   "execution_count": 53,
   "id": "f8c37662",
   "metadata": {},
   "outputs": [],
   "source": [
    "# Six comparison operators are (<,>,<=,>=,==,!= that is less than, greater than, less than or equal to, \n",
    "# greater than or equal to, equals to, not equal to)"
   ]
  },
  {
   "cell_type": "code",
   "execution_count": 54,
   "id": "2844ece5",
   "metadata": {},
   "outputs": [],
   "source": [
    "#   Question 6"
   ]
  },
  {
   "cell_type": "code",
   "execution_count": 55,
   "id": "9cbb6cd1",
   "metadata": {},
   "outputs": [],
   "source": [
    "a = 6 # will assigns value 6 to variable a"
   ]
  },
  {
   "cell_type": "code",
   "execution_count": 56,
   "id": "fde7d14f",
   "metadata": {},
   "outputs": [
    {
     "data": {
      "text/plain": [
       "6"
      ]
     },
     "execution_count": 56,
     "metadata": {},
     "output_type": "execute_result"
    }
   ],
   "source": [
    "a"
   ]
  },
  {
   "cell_type": "code",
   "execution_count": 57,
   "id": "53a1ce97",
   "metadata": {},
   "outputs": [
    {
     "data": {
      "text/plain": [
       "True"
      ]
     },
     "execution_count": 57,
     "metadata": {},
     "output_type": "execute_result"
    }
   ],
   "source": [
    "a == 6 #this is confirming that value of a is 6"
   ]
  },
  {
   "cell_type": "code",
   "execution_count": 58,
   "id": "ac9af16d",
   "metadata": {},
   "outputs": [],
   "source": [
    "#   Question 7"
   ]
  },
  {
   "cell_type": "code",
   "execution_count": 61,
   "id": "0753c399",
   "metadata": {},
   "outputs": [
    {
     "name": "stdout",
     "output_type": "stream",
     "text": [
      "ham\n",
      "spam\n"
     ]
    }
   ],
   "source": [
    "spam = 0\n",
    "if spam ==10:\n",
    "    print('eggs')\n",
    "if spam > 5:\n",
    "    print('bacon')\n",
    "else:\n",
    "    print('ham')\n",
    "print('spam')\n"
   ]
  },
  {
   "cell_type": "code",
   "execution_count": 62,
   "id": "51580759",
   "metadata": {},
   "outputs": [],
   "source": [
    "#    Question 8"
   ]
  },
  {
   "cell_type": "code",
   "execution_count": 67,
   "id": "f2502d1f",
   "metadata": {},
   "outputs": [
    {
     "name": "stdout",
     "output_type": "stream",
     "text": [
      "enter any integer =3\n",
      "Greetings!\n"
     ]
    }
   ],
   "source": [
    "spam = int(input('enter any integer ='))\n",
    "if spam == 1:\n",
    "    print('Hello')\n",
    "elif spam == 2:\n",
    "    print('Howdy')\n",
    "else:\n",
    "    print ('Greetings!')"
   ]
  },
  {
   "cell_type": "code",
   "execution_count": 68,
   "id": "4c083cc4",
   "metadata": {},
   "outputs": [],
   "source": [
    "#   Question 9\n",
    "# CTRL-C to come out of infinte loop"
   ]
  },
  {
   "cell_type": "code",
   "execution_count": 80,
   "id": "4d40eaa9",
   "metadata": {},
   "outputs": [
    {
     "name": "stdout",
     "output_type": "stream",
     "text": [
      "m\n",
      "m\n",
      "m\n",
      "end\n"
     ]
    }
   ],
   "source": [
    "# Question 10 \n",
    "a = 'my name is kazim'\n",
    "for i in a:\n",
    "    if i =='m':\n",
    "        print(i)\n",
    "        continue \n",
    "        print(i)\n",
    "print(\"end\")\n",
    "    \n"
   ]
  },
  {
   "cell_type": "code",
   "execution_count": 81,
   "id": "42d93dce",
   "metadata": {},
   "outputs": [
    {
     "name": "stdout",
     "output_type": "stream",
     "text": [
      "m\n",
      "end\n"
     ]
    }
   ],
   "source": [
    "a = 'my name is kazim'\n",
    "for i in a:\n",
    "    if i =='m':\n",
    "        print(i)\n",
    "        break\n",
    "        print(i)\n",
    "print(\"end\")"
   ]
  },
  {
   "cell_type": "code",
   "execution_count": 82,
   "id": "a96f1c82",
   "metadata": {},
   "outputs": [],
   "source": [
    "# so here we can clearly see the loop checked the whole string of characters and printed 'm' in continue\n",
    "# and came out of the loop after 1st iteration in break statement. "
   ]
  },
  {
   "cell_type": "code",
   "execution_count": 83,
   "id": "8e9ed5aa",
   "metadata": {},
   "outputs": [],
   "source": [
    "#    Question 11"
   ]
  },
  {
   "cell_type": "code",
   "execution_count": 89,
   "id": "5aeaf606",
   "metadata": {},
   "outputs": [
    {
     "name": "stdout",
     "output_type": "stream",
     "text": [
      "0123456789"
     ]
    }
   ],
   "source": [
    "a = 10\n",
    "for i in range(a):\n",
    "    print(i,end='')"
   ]
  },
  {
   "cell_type": "code",
   "execution_count": 91,
   "id": "e0ca4604",
   "metadata": {},
   "outputs": [
    {
     "name": "stdout",
     "output_type": "stream",
     "text": [
      "0123456789"
     ]
    }
   ],
   "source": [
    "a = 10\n",
    "for i in range(0,a):\n",
    "    print(i,end='')"
   ]
  },
  {
   "cell_type": "code",
   "execution_count": 92,
   "id": "8913e2e0",
   "metadata": {},
   "outputs": [
    {
     "name": "stdout",
     "output_type": "stream",
     "text": [
      "0123456789"
     ]
    }
   ],
   "source": [
    "a = 10\n",
    "for i in range(0,a,1):\n",
    "    print(i,end='')"
   ]
  },
  {
   "cell_type": "code",
   "execution_count": 93,
   "id": "7da491ca",
   "metadata": {},
   "outputs": [],
   "source": [
    "# Giving same output so not too much difference but here 1 in 3rd index shows increment by 1. "
   ]
  },
  {
   "cell_type": "code",
   "execution_count": 96,
   "id": "ddb1639f",
   "metadata": {},
   "outputs": [
    {
     "name": "stdout",
     "output_type": "stream",
     "text": [
      "1 2 3 4 5 6 7 8 9 10 "
     ]
    }
   ],
   "source": [
    "#                      Question 12\n",
    "for i in range(10):\n",
    "    print(i+1,end=\" \")"
   ]
  },
  {
   "cell_type": "code",
   "execution_count": 98,
   "id": "87b96909",
   "metadata": {},
   "outputs": [
    {
     "name": "stdout",
     "output_type": "stream",
     "text": [
      "1 2 3 4 5 6 7 8 9 10 "
     ]
    }
   ],
   "source": [
    "i = 1\n",
    "while i<=10:\n",
    "    print(i,end=\" \")\n",
    "    i = i+1"
   ]
  },
  {
   "cell_type": "code",
   "execution_count": null,
   "id": "d51f87c1",
   "metadata": {},
   "outputs": [],
   "source": [
    "#         Question 13\n",
    "#  spam.bacon()"
   ]
  }
 ],
 "metadata": {
  "kernelspec": {
   "display_name": "Python 3 (ipykernel)",
   "language": "python",
   "name": "python3"
  },
  "language_info": {
   "codemirror_mode": {
    "name": "ipython",
    "version": 3
   },
   "file_extension": ".py",
   "mimetype": "text/x-python",
   "name": "python",
   "nbconvert_exporter": "python",
   "pygments_lexer": "ipython3",
   "version": "3.9.7"
  }
 },
 "nbformat": 4,
 "nbformat_minor": 5
}
