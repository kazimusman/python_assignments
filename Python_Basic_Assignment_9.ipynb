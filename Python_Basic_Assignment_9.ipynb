{
 "cells": [
  {
   "cell_type": "markdown",
   "id": "f02aa19a",
   "metadata": {},
   "source": [
    "# Python Basic Assignment 9"
   ]
  },
  {
   "cell_type": "markdown",
   "id": "8d219efc",
   "metadata": {},
   "source": [
    "# Question # 1\n",
    "\n",
    "### To what does a relative path refer?"
   ]
  },
  {
   "cell_type": "markdown",
   "id": "7ba67cce",
   "metadata": {},
   "source": [
    "- A relative path refers to a location that is relative to a current directory."
   ]
  },
  {
   "cell_type": "code",
   "execution_count": 4,
   "id": "f47d8e09",
   "metadata": {},
   "outputs": [
    {
     "data": {
      "text/plain": [
       "'/Users/kazimusman'"
      ]
     },
     "execution_count": 4,
     "metadata": {},
     "output_type": "execute_result"
    }
   ],
   "source": [
    "pwd()"
   ]
  },
  {
   "cell_type": "code",
   "execution_count": 8,
   "id": "20bd0e89",
   "metadata": {},
   "outputs": [
    {
     "data": {
      "text/plain": [
       "'my name is syed kazim usman'"
      ]
     },
     "execution_count": 8,
     "metadata": {},
     "output_type": "execute_result"
    }
   ],
   "source": [
    "f = open('/users/kazimusman/python_assignments/test1.txt','r')\n",
    "f.read()"
   ]
  },
  {
   "cell_type": "code",
   "execution_count": 9,
   "id": "754a7723",
   "metadata": {},
   "outputs": [],
   "source": [
    "f.close()"
   ]
  },
  {
   "cell_type": "code",
   "execution_count": 10,
   "id": "683e279b",
   "metadata": {},
   "outputs": [
    {
     "data": {
      "text/plain": [
       "'/Users/kazimusman'"
      ]
     },
     "execution_count": 10,
     "metadata": {},
     "output_type": "execute_result"
    }
   ],
   "source": [
    "pwd()"
   ]
  },
  {
   "cell_type": "markdown",
   "id": "0bce95a2",
   "metadata": {},
   "source": [
    "- Here **relative path** to 'test1.txt' is : python_assignments/test1.txt\n",
    "\n",
    "- where /users/kazimusman/python_assignments/test1.txt is called **absolute path**"
   ]
  },
  {
   "cell_type": "markdown",
   "id": "96b4e96d",
   "metadata": {},
   "source": [
    "# Question # 2\n",
    "### What does an absolute path start with your operating system?"
   ]
  },
  {
   "cell_type": "markdown",
   "id": "f3c9af13",
   "metadata": {},
   "source": [
    "*In linux/mac based operating system the absolute path starts with '/' where in the case of windows the absolute path starts with c:*"
   ]
  },
  {
   "cell_type": "markdown",
   "id": "27414191",
   "metadata": {},
   "source": [
    "# Question # 3\n",
    "### What does the functions os.getcwd() and os.chdir() do?"
   ]
  },
  {
   "cell_type": "code",
   "execution_count": 11,
   "id": "364bdbfd",
   "metadata": {},
   "outputs": [
    {
     "data": {
      "text/plain": [
       "'/Users/kazimusman'"
      ]
     },
     "execution_count": 11,
     "metadata": {},
     "output_type": "execute_result"
    }
   ],
   "source": [
    "# let's run these commands and see what we will get\n",
    "\n",
    "import os\n",
    "\n",
    "os.getcwd()"
   ]
  },
  {
   "cell_type": "markdown",
   "id": "2329cb83",
   "metadata": {},
   "source": [
    "- so it is giving us the location of current working directory"
   ]
  },
  {
   "cell_type": "markdown",
   "id": "fb8ce9f4",
   "metadata": {},
   "source": [
    "- which is same as using pwd()"
   ]
  },
  {
   "cell_type": "code",
   "execution_count": 12,
   "id": "38496d22",
   "metadata": {},
   "outputs": [
    {
     "data": {
      "text/plain": [
       "'/Users/kazimusman'"
      ]
     },
     "execution_count": 12,
     "metadata": {},
     "output_type": "execute_result"
    }
   ],
   "source": [
    "pwd()"
   ]
  },
  {
   "cell_type": "code",
   "execution_count": 15,
   "id": "1cd8445e",
   "metadata": {},
   "outputs": [
    {
     "data": {
      "text/plain": [
       "'/Users/kazimusman/python_assignments'"
      ]
     },
     "execution_count": 15,
     "metadata": {},
     "output_type": "execute_result"
    }
   ],
   "source": [
    "# now lets see what os.chdir() do\n",
    "\n",
    "path = r'/users/kazimusman/python_assignments'\n",
    "os.chdir(path)\n",
    "os.getcwd()"
   ]
  },
  {
   "cell_type": "markdown",
   "id": "bbe84cca",
   "metadata": {},
   "source": [
    "- so we can see that it is used to change the current working directory which is similar to 'cd' command in linux"
   ]
  },
  {
   "cell_type": "code",
   "execution_count": 18,
   "id": "7c7cd69c",
   "metadata": {},
   "outputs": [
    {
     "name": "stdout",
     "output_type": "stream",
     "text": [
      "/Users/kazimusman/python_assignments\n"
     ]
    }
   ],
   "source": [
    "cd python_assignments"
   ]
  },
  {
   "cell_type": "markdown",
   "id": "fef10573",
   "metadata": {},
   "source": [
    "# Question # 4\n",
    "### What are the . and .. folders?"
   ]
  },
  {
   "cell_type": "code",
   "execution_count": 19,
   "id": "8ac8f28f",
   "metadata": {},
   "outputs": [
    {
     "data": {
      "text/plain": [
       "'/Users/kazimusman/python_assignments'"
      ]
     },
     "execution_count": 19,
     "metadata": {},
     "output_type": "execute_result"
    }
   ],
   "source": [
    "pwd"
   ]
  },
  {
   "cell_type": "code",
   "execution_count": 21,
   "id": "fdda9d4f",
   "metadata": {},
   "outputs": [
    {
     "name": "stdout",
     "output_type": "stream",
     "text": [
      "/Users/kazimusman/python_assignments\n"
     ]
    }
   ],
   "source": [
    "cd ."
   ]
  },
  {
   "cell_type": "markdown",
   "id": "249d2992",
   "metadata": {},
   "source": [
    "- so '.' represents the current directory"
   ]
  },
  {
   "cell_type": "code",
   "execution_count": 22,
   "id": "c16606e8",
   "metadata": {},
   "outputs": [
    {
     "name": "stdout",
     "output_type": "stream",
     "text": [
      "/Users/kazimusman\n"
     ]
    }
   ],
   "source": [
    "cd .."
   ]
  },
  {
   "cell_type": "markdown",
   "id": "b000b9e8",
   "metadata": {},
   "source": [
    "- Here you can see '..' represents the parent directory of the current directory "
   ]
  },
  {
   "cell_type": "markdown",
   "id": "89a4b7a0",
   "metadata": {},
   "source": [
    "# Question # 5\n",
    "### In c:/bacon/eggs/spam.txt, which part is the dir name, and which part is the base name?"
   ]
  },
  {
   "cell_type": "markdown",
   "id": "0e2bebd6",
   "metadata": {},
   "source": [
    "- The directory name is  c:/bacon/eggs\n",
    "- The base name is       /spam.txt"
   ]
  },
  {
   "cell_type": "markdown",
   "id": "8fdbeb00",
   "metadata": {},
   "source": [
    "# Question # 6\n",
    "### What are the three 'mode' arguments that can be passed to the open() function?"
   ]
  },
  {
   "cell_type": "markdown",
   "id": "188833c7",
   "metadata": {},
   "source": [
    "### open(filename,mode) \n",
    "\n",
    "where mode can take the following arguments\n",
    "\n",
    "- 'r'       open for reading (default)\n",
    "- 'w'       open for writing, truncating the file first\n",
    "- 'x'       create a new file and open it for writing\n",
    "- 'a'       open for writing, appending to the end of the file if it exists\n",
    "- 'b'       binary mode\n",
    "- 't'       text mode (default)\n",
    "- '+'       open a disk file for updating (reading and writing)\n",
    "- 'U'       universal newline mode (deprecated)"
   ]
  },
  {
   "cell_type": "markdown",
   "id": "9114cf6a",
   "metadata": {},
   "source": [
    "# Question # 7\n",
    "### What happens if an existing file is opened in write mode?"
   ]
  },
  {
   "cell_type": "markdown",
   "id": "28b7fdbf",
   "metadata": {},
   "source": [
    "- It will overwrite any existing content in a file"
   ]
  },
  {
   "cell_type": "markdown",
   "id": "b6d3d4d1",
   "metadata": {},
   "source": [
    "# Question # 8\n",
    "### How do you tell the difference between read() and readlines()?"
   ]
  },
  {
   "cell_type": "code",
   "execution_count": 43,
   "id": "bc741c47",
   "metadata": {},
   "outputs": [
    {
     "data": {
      "text/plain": [
       "'/Users/kazimusman'"
      ]
     },
     "execution_count": 43,
     "metadata": {},
     "output_type": "execute_result"
    }
   ],
   "source": [
    "pwd"
   ]
  },
  {
   "cell_type": "code",
   "execution_count": 65,
   "id": "4fa31447",
   "metadata": {},
   "outputs": [
    {
     "data": {
      "text/plain": [
       "'I am syed kazim usman. I am ineuron student and \\nenrolled in full stack data science certification\\ncurrently I am working as a lecturer in mathematics department\\n'"
      ]
     },
     "execution_count": 65,
     "metadata": {},
     "output_type": "execute_result"
    }
   ],
   "source": [
    "f = open('test2.txt','r')\n",
    "f.read()"
   ]
  },
  {
   "cell_type": "code",
   "execution_count": 66,
   "id": "887a9409",
   "metadata": {},
   "outputs": [
    {
     "data": {
      "text/plain": [
       "0"
      ]
     },
     "execution_count": 66,
     "metadata": {},
     "output_type": "execute_result"
    }
   ],
   "source": [
    "f.seek(0)"
   ]
  },
  {
   "cell_type": "code",
   "execution_count": 67,
   "id": "9ca6aa9e",
   "metadata": {},
   "outputs": [
    {
     "data": {
      "text/plain": [
       "'I am syed kazim usman. I am ineuron student and \\n'"
      ]
     },
     "execution_count": 67,
     "metadata": {},
     "output_type": "execute_result"
    }
   ],
   "source": [
    "f.readline()"
   ]
  },
  {
   "cell_type": "code",
   "execution_count": 68,
   "id": "f8b7d7ad",
   "metadata": {},
   "outputs": [
    {
     "data": {
      "text/plain": [
       "'enrolled in full stack data science certification\\n'"
      ]
     },
     "execution_count": 68,
     "metadata": {},
     "output_type": "execute_result"
    }
   ],
   "source": [
    "f.readline()"
   ]
  },
  {
   "cell_type": "code",
   "execution_count": 69,
   "id": "ec9ac967",
   "metadata": {},
   "outputs": [
    {
     "data": {
      "text/plain": [
       "'currently I am working as a lecturer in mathematics department\\n'"
      ]
     },
     "execution_count": 69,
     "metadata": {},
     "output_type": "execute_result"
    }
   ],
   "source": [
    "f.readline()"
   ]
  },
  {
   "cell_type": "markdown",
   "id": "a7cced53",
   "metadata": {},
   "source": [
    "- As you can see **read()** command read the whole file at once, whereas **readline()** as you can also guess from the name is reading the file iteratively line wise."
   ]
  },
  {
   "cell_type": "code",
   "execution_count": null,
   "id": "b3fb2dd8",
   "metadata": {},
   "outputs": [],
   "source": []
  },
  {
   "cell_type": "markdown",
   "id": "d059e9a1",
   "metadata": {},
   "source": [
    "# Question # 9\n",
    "### What data structure does a shelf resemble?"
   ]
  },
  {
   "cell_type": "markdown",
   "id": "a4ba9a74",
   "metadata": {},
   "source": [
    "- A shelf value resembles a dictionary value; it has keys and values, along with keys() and values() methods that work similarly to the dictionary methods of the same names"
   ]
  },
  {
   "cell_type": "code",
   "execution_count": null,
   "id": "3615feae",
   "metadata": {},
   "outputs": [],
   "source": []
  }
 ],
 "metadata": {
  "kernelspec": {
   "display_name": "Python 3 (ipykernel)",
   "language": "python",
   "name": "python3"
  },
  "language_info": {
   "codemirror_mode": {
    "name": "ipython",
    "version": 3
   },
   "file_extension": ".py",
   "mimetype": "text/x-python",
   "name": "python",
   "nbconvert_exporter": "python",
   "pygments_lexer": "ipython3",
   "version": "3.9.7"
  }
 },
 "nbformat": 4,
 "nbformat_minor": 5
}
